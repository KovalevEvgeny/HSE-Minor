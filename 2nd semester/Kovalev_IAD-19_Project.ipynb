{
 "cells": [
  {
   "cell_type": "markdown",
   "metadata": {},
   "source": [
    "# Проект по анализу данных\n",
    "\n",
    "## Общая информация\n",
    "\n",
    "Дата выдачи: 22.03.2016\n",
    "\n",
    "Срок сдачи: 10.04.2016 09:00MSK\n",
    "\n",
    "### О задании\n",
    "В рамках курса \"Интеллектуальный анализ данных\" помимо выполнения контрольных и практических заданий вам также нужно выполнить проект. За каждый модуль ставится отдельная оценка. В этом модуле вам предстоит познакомиться с данными, сделать их описание, поискать закономерности. В следующем модуле вы продолжите работу с этими данными, но уже будете строить непосредственные модели, работающие с ними. \n",
    "\n",
    "Там, где требуется написать код, будет указано:\n",
    "    \n",
    "    ######################\n",
    "    ### YOUR CODE HERE ###\n",
    "    ######################\n",
    "\n",
    "### Оценивание и штрафы\n",
    "Каждая из задач имеет определенную «стоимость» (указана в скобках около задачи). Максимально допустимая оценка за работу — 10 баллов. Помимо кода вам также требуется написать развернутые ответы на вопросы.\n",
    "\n",
    "Сдавать задание после указанного срока сдачи нельзя. При выставлении неполного балла за задание в связи с наличием ошибок на усмотрение проверяющего предусмотрена возможность исправить задание на указанных в ответном письме условиях.\n",
    "\n",
    "Задание выполняется САМОСТОЯТЕЛЬНО. «Похожие» решения считаются плагиатом и все задействованные студенты (в том числе те, у кого списали) не могут получить за него больше 0 баллов. Если вы нашли решение какого-то из заданий в открытом источнике, необходимо прислать ссылку на этот источник (скорее всего вы будете не единственным, кто это нашел, поэтому чтобы исключить подозрение в плагиате, необходима ссылка на источник).\n",
    "\n",
    "Если вы будете решать задание на виртуальной машине, учтите, что его могут видеть все. К тому же недоступность виртуальной машины не является уважительной причиной для продления дедлайна.\n",
    "\n",
    "Обратите внимание, что на устном зачете в конце семестра некотоые вопросы могут быть связаны с проектом.\n",
    "\n",
    "### Доп. баллы\n",
    "В данном проекте вам будет предложено рассмотреть некоторые интересные закономерности в данных. Если вы обнаружите что-то интересное (например, в последнем пункте), либо у вас есть идеи как можно работать с данным датасетом — присылайте, это будет поощряться дополнительными баллами. Кроме того, вы можете выступить со своим личным исследованием на семинаре, это также не останется незамеченным.\n",
    "\n",
    "### Формат сдачи\n",
    "Для сдачи задания переименуйте получившийся файл *.ipynb в соответствии со следующим форматом: Username_(group)_Project.ipynb, где Username — ваша фамилия на латинице, group — название группы (например, Petrov_IAD-19_Project.ipynb). Далее отправьте этот файл на используемую в Вашей группе почту курса (hse.minor.dm@gmail.com) c темой письма [ИАД-19] - Проект - Фамилия Имя Отчество."
   ]
  },
  {
   "cell_type": "markdown",
   "metadata": {},
   "source": [
    "## Определение итоговой оценки студента"
   ]
  },
  {
   "cell_type": "markdown",
   "metadata": {},
   "source": [
    "В качестве данных мы будем рассматривать два датасета, а именно предсказание оценки по португальскому языку или математике. С какими именно данными нужно будет работать вам можно узнать, посмотрев [распределение по вариантам](https://docs.google.com/spreadsheets/d/1UUlgsu5TD-_YUNVtGkhrFr1zaQSHiQ8JfZ7VfbzYKAg/edit?usp=sharing)."
   ]
  },
  {
   "cell_type": "markdown",
   "metadata": {},
   "source": [
    "По набору и типу признаков эти даннык никак не отличаются, поэтому на все вопросы ниже вам нужно ответить в рамках вашего датасета."
   ]
  },
  {
   "cell_type": "code",
   "execution_count": 1,
   "metadata": {
    "collapsed": true
   },
   "outputs": [],
   "source": [
    "import numpy as np\n",
    "import pandas as pd\n",
    "import scipy as sp\n",
    "import pylab as plt\n",
    "\n",
    "%matplotlib inline"
   ]
  },
  {
   "cell_type": "markdown",
   "metadata": {},
   "source": [
    "Для начала загрузите данные. Обратите внимание, чтобы данные были загружены верно (был указан верный разделитель, а так же корректно отображались названия столбцов). Чтобы это проверить, а также посмотреть что представляют из себя данные, можно вывести первые несколько строк загруженного датасета на экран."
   ]
  },
  {
   "cell_type": "code",
   "execution_count": 2,
   "metadata": {
    "collapsed": false
   },
   "outputs": [
    {
     "data": {
      "text/html": [
       "<div>\n",
       "<table border=\"1\" class=\"dataframe\">\n",
       "  <thead>\n",
       "    <tr style=\"text-align: right;\">\n",
       "      <th></th>\n",
       "      <th>school</th>\n",
       "      <th>sex</th>\n",
       "      <th>age</th>\n",
       "      <th>address</th>\n",
       "      <th>famsize</th>\n",
       "      <th>Pstatus</th>\n",
       "      <th>Medu</th>\n",
       "      <th>Fedu</th>\n",
       "      <th>Mjob</th>\n",
       "      <th>Fjob</th>\n",
       "      <th>...</th>\n",
       "      <th>famrel</th>\n",
       "      <th>freetime</th>\n",
       "      <th>goout</th>\n",
       "      <th>Dalc</th>\n",
       "      <th>Walc</th>\n",
       "      <th>health</th>\n",
       "      <th>absences</th>\n",
       "      <th>G1</th>\n",
       "      <th>G2</th>\n",
       "      <th>G3</th>\n",
       "    </tr>\n",
       "  </thead>\n",
       "  <tbody>\n",
       "    <tr>\n",
       "      <th>0</th>\n",
       "      <td>GP</td>\n",
       "      <td>F</td>\n",
       "      <td>18</td>\n",
       "      <td>U</td>\n",
       "      <td>GT3</td>\n",
       "      <td>A</td>\n",
       "      <td>4</td>\n",
       "      <td>4</td>\n",
       "      <td>at_home</td>\n",
       "      <td>teacher</td>\n",
       "      <td>...</td>\n",
       "      <td>4</td>\n",
       "      <td>3</td>\n",
       "      <td>4</td>\n",
       "      <td>1</td>\n",
       "      <td>1</td>\n",
       "      <td>3</td>\n",
       "      <td>4</td>\n",
       "      <td>0</td>\n",
       "      <td>11</td>\n",
       "      <td>11</td>\n",
       "    </tr>\n",
       "    <tr>\n",
       "      <th>1</th>\n",
       "      <td>GP</td>\n",
       "      <td>F</td>\n",
       "      <td>17</td>\n",
       "      <td>U</td>\n",
       "      <td>GT3</td>\n",
       "      <td>T</td>\n",
       "      <td>1</td>\n",
       "      <td>1</td>\n",
       "      <td>at_home</td>\n",
       "      <td>other</td>\n",
       "      <td>...</td>\n",
       "      <td>5</td>\n",
       "      <td>3</td>\n",
       "      <td>3</td>\n",
       "      <td>1</td>\n",
       "      <td>1</td>\n",
       "      <td>3</td>\n",
       "      <td>2</td>\n",
       "      <td>9</td>\n",
       "      <td>11</td>\n",
       "      <td>11</td>\n",
       "    </tr>\n",
       "    <tr>\n",
       "      <th>2</th>\n",
       "      <td>GP</td>\n",
       "      <td>F</td>\n",
       "      <td>15</td>\n",
       "      <td>U</td>\n",
       "      <td>LE3</td>\n",
       "      <td>T</td>\n",
       "      <td>1</td>\n",
       "      <td>1</td>\n",
       "      <td>at_home</td>\n",
       "      <td>other</td>\n",
       "      <td>...</td>\n",
       "      <td>4</td>\n",
       "      <td>3</td>\n",
       "      <td>2</td>\n",
       "      <td>2</td>\n",
       "      <td>3</td>\n",
       "      <td>3</td>\n",
       "      <td>6</td>\n",
       "      <td>12</td>\n",
       "      <td>13</td>\n",
       "      <td>12</td>\n",
       "    </tr>\n",
       "    <tr>\n",
       "      <th>3</th>\n",
       "      <td>GP</td>\n",
       "      <td>F</td>\n",
       "      <td>15</td>\n",
       "      <td>U</td>\n",
       "      <td>GT3</td>\n",
       "      <td>T</td>\n",
       "      <td>4</td>\n",
       "      <td>2</td>\n",
       "      <td>health</td>\n",
       "      <td>services</td>\n",
       "      <td>...</td>\n",
       "      <td>3</td>\n",
       "      <td>2</td>\n",
       "      <td>2</td>\n",
       "      <td>1</td>\n",
       "      <td>1</td>\n",
       "      <td>5</td>\n",
       "      <td>0</td>\n",
       "      <td>14</td>\n",
       "      <td>14</td>\n",
       "      <td>14</td>\n",
       "    </tr>\n",
       "    <tr>\n",
       "      <th>4</th>\n",
       "      <td>GP</td>\n",
       "      <td>F</td>\n",
       "      <td>16</td>\n",
       "      <td>U</td>\n",
       "      <td>GT3</td>\n",
       "      <td>T</td>\n",
       "      <td>3</td>\n",
       "      <td>3</td>\n",
       "      <td>other</td>\n",
       "      <td>other</td>\n",
       "      <td>...</td>\n",
       "      <td>4</td>\n",
       "      <td>3</td>\n",
       "      <td>2</td>\n",
       "      <td>1</td>\n",
       "      <td>2</td>\n",
       "      <td>5</td>\n",
       "      <td>0</td>\n",
       "      <td>11</td>\n",
       "      <td>13</td>\n",
       "      <td>13</td>\n",
       "    </tr>\n",
       "  </tbody>\n",
       "</table>\n",
       "<p>5 rows × 33 columns</p>\n",
       "</div>"
      ],
      "text/plain": [
       "  school sex  age address famsize Pstatus  Medu  Fedu     Mjob      Fjob ...  \\\n",
       "0     GP   F   18       U     GT3       A     4     4  at_home   teacher ...   \n",
       "1     GP   F   17       U     GT3       T     1     1  at_home     other ...   \n",
       "2     GP   F   15       U     LE3       T     1     1  at_home     other ...   \n",
       "3     GP   F   15       U     GT3       T     4     2   health  services ...   \n",
       "4     GP   F   16       U     GT3       T     3     3    other     other ...   \n",
       "\n",
       "  famrel freetime  goout  Dalc  Walc health absences  G1  G2  G3  \n",
       "0      4        3      4     1     1      3        4   0  11  11  \n",
       "1      5        3      3     1     1      3        2   9  11  11  \n",
       "2      4        3      2     2     3      3        6  12  13  12  \n",
       "3      3        2      2     1     1      5        0  14  14  14  \n",
       "4      4        3      2     1     2      5        0  11  13  13  \n",
       "\n",
       "[5 rows x 33 columns]"
      ]
     },
     "execution_count": 2,
     "metadata": {},
     "output_type": "execute_result"
    }
   ],
   "source": [
    "######################\n",
    "### YOUR CODE HERE ###\n",
    "######################\n",
    "\n",
    "df = pd.read_csv('student-por.csv', ';')\n",
    "df.head()"
   ]
  },
  {
   "cell_type": "markdown",
   "metadata": {},
   "source": [
    "**(0.5 балла)** Что в данной задаче является объектом?"
   ]
  },
  {
   "cell_type": "markdown",
   "metadata": {},
   "source": [
    "**_Объектом являются студенты, изучающие португальский язык._**"
   ]
  },
  {
   "cell_type": "markdown",
   "metadata": {},
   "source": [
    "Как можно видеть, признаков много и они все разной природы. Вот более подробная расшифровка признаков:\n",
    "\n",
    " - school - тип школы (\"GP\" - Gabriel Pereira или \"MS\" - Mousinho da Silveira)\n",
    " - sex - пол (\"F\" - female или \"M\" - male)\n",
    " - age - возраст (от 15 до 22)\n",
    " - address - откуда студент (\"U\" - urban или \"R\" - rural)\n",
    " - famsize - размер семьи (\"LE3\" - меньше или равно 3 или \"GT3\" - больше 3)\n",
    " - Pstatus - в каких отношениях родители (\"T\" - живут вместе \"A\" - раздельно)\n",
    " - Medu - образование матери (0 - никакого,  1 - начальное образование (4 класса), 2 – от 5 до 9 классов, 3 – среднеспециальное или 4 – высшее)\n",
    " - Fedu - образование отца (0 - никакого,  1 - начальное образование (4 класса), 2 – от 5 до 9 классов, 3 – среднеспециальное или 4 – высшее)\n",
    " - Mjob - работа матери (\"teacher\", \"health\" care related, civil \"services\" (e.g. administrative or police), \"at_home\" or \"other\")\n",
    " - Fjob - работа отца (\"teacher\", \"health\" care related, civil \"services\" (e.g. administrative or police), \"at_home\" or \"other\")\n",
    " - reason - причина выбора школы (близко к дому — \"home\", репутация школы — \"reputation\", \"course\" предпочтение некоторым предметам или \"other\")\n",
    " - guardian - опекун (\"mother\", \"father\" или \"other\")\n",
    " - traveltime - время от дома до школы (1 - меньше 15 мин., 2 - 15 до 30 мин., 3 - 30 мин. до 1 часа, или 4 - больше 1 часа)\n",
    " - studytime - количество часов обучения в неделю (1 - меньше 2 часов, 2 - от 2 до 5 часов, 3 - от 5 до 10 часов, или 4 - больше 10 часов)\n",
    " - failures - колисечтво ранее не сданных предметов (n if 1 <= n < 3, else 4)\n",
    " - schoolsup - дополнительные занятия (yes or no)\n",
    " - famsup - помощь от семьи при выполнении заданий (yes or no)\n",
    " - paid - дополнительные платные занятия (yes or no)\n",
    " - activities - внеклассная деятельность (yes or no)\n",
    " - nursery - посещал детский сад (yes or no)\n",
    " - higher - желание высшего образования (yes or no)\n",
    " - internet - домашний интернет (yes or no)\n",
    " - romantic - состоит в романтических отношениях (yes or no)\n",
    " - famrel - насколько хорошо отношения в семье (от 1 - очень плохие до 5 - превосходные)\n",
    " - freetime - наличие свободного времени после школы (от 1 - очень мало до 5 - очень много)\n",
    " - goout - гуляет с друзьями (от 1 - редко до 5 - очень часто)\n",
    " - Dalc - употребление алкоголя в будние дни (от 1 - очень редко до 5 - очень часто)\n",
    " - Walc - употребление алкоголя в выходные (от 1 - очень редко до 5 - очень часто)\n",
    " - health - текущее состояние здоровья (от 1 - очень плохое до 5 - очень хорошее)\n",
    " - absences - количество школьных пропусков (от 0 до 93)\n",
    "\n",
    "Признаки ниже связаны с курсом (математика/португальский)\n",
    " - G1 - оценка за первый семестр (от 0 до 20)\n",
    " - G2 - оценка за второй семестр (от 0 до 20)\n",
    " - [целевая переменная] G3 - итоговая оценка (от 0 до 20)"
   ]
  },
  {
   "cell_type": "markdown",
   "metadata": {},
   "source": [
    "**(0.5 балла)** Какое количество признаков есть в данной задаче (целевая переменная не является признаком)?"
   ]
  },
  {
   "cell_type": "code",
   "execution_count": 3,
   "metadata": {
    "collapsed": false
   },
   "outputs": [
    {
     "name": "stdout",
     "output_type": "stream",
     "text": [
      "32\n"
     ]
    }
   ],
   "source": [
    "######################\n",
    "### YOUR CODE HERE ###\n",
    "######################\n",
    "df_features = df[df.columns[:-1]]\n",
    "print(df_features.shape[1])"
   ]
  },
  {
   "cell_type": "markdown",
   "metadata": {},
   "source": [
    "**(1 балл)** Определите к какому из указанных ниже типов относится каждый признак:\n",
    " - бинарный\n",
    " - числовой\n",
    " - категориальный\n",
    " - порядковый\n",
    " - множественный\n",
    "\n",
    "Если признаков некоторого типа нет, укажите это."
   ]
  },
  {
   "cell_type": "code",
   "execution_count": 4,
   "metadata": {
    "collapsed": false,
    "scrolled": true
   },
   "outputs": [
    {
     "name": "stdout",
     "output_type": "stream",
     "text": [
      "school : категориальный\n",
      "sex : категориальный\n",
      "age : числовой\n",
      "address : категориальный\n",
      "famsize : категориальный\n",
      "Pstatus : категориальный\n",
      "Medu : порядковый\n",
      "Fedu : порядковый\n",
      "Mjob : категориальный\n",
      "Fjob : категориальный\n",
      "reason : категориальный\n",
      "guardian : категориальный\n",
      "traveltime : порядковый\n",
      "studytime : порядковый\n",
      "failures : числовой\n",
      "schoolsup : бинарный\n",
      "famsup : бинарный\n",
      "paid : бинарный\n",
      "activities : бинарный\n",
      "nursery : бинарный\n",
      "higher : бинарный\n",
      "internet : бинарный\n",
      "romantic : бинарный\n",
      "famrel : порядковый\n",
      "freetime : порядковый\n",
      "goout : порядковый\n",
      "Dalc : порядковый\n",
      "Walc : порядковый\n",
      "health : порядковый\n",
      "absences : числовой\n",
      "G1 : числовой\n",
      "G2 : числовой\n"
     ]
    }
   ],
   "source": [
    "######################\n",
    "### YOUR CODE HERE ###\n",
    "######################\n",
    "numerical_features = []\n",
    "for v in df_features.columns.values:\n",
    "    unique_values = df_features[v].unique()\n",
    "    if type(unique_values[0]) is np.int64:\n",
    "        if len(unique_values) <= 5 and v != 'failures':\n",
    "            print(v, ': порядковый')\n",
    "        else:\n",
    "            # Далее массив numerical_features понадобится в одном задании\n",
    "            numerical_features.append(v)\n",
    "            print(v, ': числовой')\n",
    "    else:\n",
    "        if set(unique_values) == set(np.array(['yes', 'no'])):\n",
    "            print(v, ': бинарный')\n",
    "        else:\n",
    "            print(v, ': категориальный')\n"
   ]
  },
  {
   "cell_type": "markdown",
   "metadata": {},
   "source": [
    "**_Признаков множественного типа нет._**"
   ]
  },
  {
   "cell_type": "markdown",
   "metadata": {},
   "source": [
    "**(0.5 балла)** Есть ли в данных пропуски? Если да, назовите какие признаки имеют пропуски и удалите все объекты с пропусками. "
   ]
  },
  {
   "cell_type": "code",
   "execution_count": 5,
   "metadata": {
    "collapsed": false
   },
   "outputs": [
    {
     "data": {
      "text/plain": [
       "False"
      ]
     },
     "execution_count": 5,
     "metadata": {},
     "output_type": "execute_result"
    }
   ],
   "source": [
    "df_features.isnull().any().any()"
   ]
  },
  {
   "cell_type": "markdown",
   "metadata": {},
   "source": [
    "**_Итак, пропусков нет._**"
   ]
  },
  {
   "cell_type": "markdown",
   "metadata": {},
   "source": [
    "**(1 балл)** Теперь посмотрите на целевую переменную. К какому типу задач относится данная? Поясните свой ответ."
   ]
  },
  {
   "cell_type": "markdown",
   "metadata": {},
   "source": [
    "**_Данная задача является задачей регрессии, так как целевая переменная принимает вещественные значения (а именно, от 0 до 20 включительно)._**"
   ]
  },
  {
   "cell_type": "markdown",
   "metadata": {},
   "source": [
    "**(1 балл)** Постройте гистограмму значений целевой переменной с количеством бинов (bins) равным 20. Какое самое частое значение? Есть ли студенты, получисшие 0? 20? Постройте аналогичный гистограммы для признаков G1 и G2. Есть ли различие между ними и целевой переменной и в чем оно состоит?"
   ]
  },
  {
   "cell_type": "code",
   "execution_count": 6,
   "metadata": {
    "collapsed": false
   },
   "outputs": [
    {
     "name": "stdout",
     "output_type": "stream",
     "text": [
      "11\n",
      "True\n",
      "False\n"
     ]
    },
    {
     "data": {
      "image/png": "[encoded data removed]",
      "text/plain": [
       "<matplotlib.figure.Figure at 0x2a50550>"
      ]
     },
     "metadata": {},
     "output_type": "display_data"
    }
   ],
   "source": [
    "######################\n",
    "### YOUR CODE HERE ###\n",
    "######################\n",
    "plt.subplot(311)\n",
    "df.G3.hist(bins=20, color='red', label='G3')\n",
    "plt.legend()\n",
    "plt.subplot(312)\n",
    "df.G1.hist(bins=20, color='blue', label='G1')\n",
    "plt.legend()\n",
    "plt.subplot(313)\n",
    "df.G2.hist(bins=20, color='green', label='G2')\n",
    "plt.legend();\n",
    "\n",
    "print(df.G3.value_counts().idxmax())\n",
    "print(0 in df.G3.values)\n",
    "print(20 in df.G3.values)"
   ]
  },
  {
   "cell_type": "markdown",
   "metadata": {},
   "source": [
    "**_Таким образом, самым частым значением G3 является 11; есть студенты, получившие 0, но нет студентов, получивших 20._**\n",
    "\n",
    "**_Различие между G1 и G3 заключается в самом частом значении (у G1 это 10). Также и G1, и G2 отличаются от G3 количествами некоторых значений и появлениями новых значений (у G1 встречается значение 4 и 5, у G2 - 5, а у G3 они не встречаются)._**"
   ]
  },
  {
   "cell_type": "markdown",
   "metadata": {},
   "source": [
    "**(1 балл)** Посчитайте корреляцию Пирсона между целевой переменной и значениями G1 и G2. Можно ли сказать, что между ними есть линейная зависимость? Для вычисления корреляции Пирсона можно воспользоваться функцией [pearsonr](http://docs.scipy.org/doc/scipy/reference/generated/scipy.stats.pearsonr.html) из модуля scipy.stats или методом [corr](http://pandas.pydata.org/pandas-docs/stable/generated/pandas.DataFrame.corr.html) датафрейма."
   ]
  },
  {
   "cell_type": "code",
   "execution_count": 7,
   "metadata": {
    "collapsed": false
   },
   "outputs": [
    {
     "data": {
      "text/html": [
       "<div>\n",
       "<table border=\"1\" class=\"dataframe\">\n",
       "  <thead>\n",
       "    <tr style=\"text-align: right;\">\n",
       "      <th></th>\n",
       "      <th>G1</th>\n",
       "      <th>G2</th>\n",
       "      <th>G3</th>\n",
       "    </tr>\n",
       "  </thead>\n",
       "  <tbody>\n",
       "    <tr>\n",
       "      <th>G1</th>\n",
       "      <td>1.000000</td>\n",
       "      <td>0.864982</td>\n",
       "      <td>0.826387</td>\n",
       "    </tr>\n",
       "    <tr>\n",
       "      <th>G2</th>\n",
       "      <td>0.864982</td>\n",
       "      <td>1.000000</td>\n",
       "      <td>0.918548</td>\n",
       "    </tr>\n",
       "    <tr>\n",
       "      <th>G3</th>\n",
       "      <td>0.826387</td>\n",
       "      <td>0.918548</td>\n",
       "      <td>1.000000</td>\n",
       "    </tr>\n",
       "  </tbody>\n",
       "</table>\n",
       "</div>"
      ],
      "text/plain": [
       "          G1        G2        G3\n",
       "G1  1.000000  0.864982  0.826387\n",
       "G2  0.864982  1.000000  0.918548\n",
       "G3  0.826387  0.918548  1.000000"
      ]
     },
     "execution_count": 7,
     "metadata": {},
     "output_type": "execute_result"
    }
   ],
   "source": [
    "######################\n",
    "### YOUR CODE HERE ###\n",
    "######################\n",
    "df[['G1', 'G2', 'G3']].corr()"
   ]
  },
  {
   "cell_type": "markdown",
   "metadata": {},
   "source": [
    "**_Говорить, что где-либо есть линейная зависимость, нельзя, потому что модуль коэффициента Пирсона во всех трех случаях (G1 и G2, G1 и G3, G2 и G3) отличен от 1. Однако видно, что связь между G1 и G2 близка к линейной, как и в случае с G1 и G3, а связь между G2 и G3 очень близка к линейной._**"
   ]
  },
  {
   "cell_type": "markdown",
   "metadata": {},
   "source": [
    "**(0.5 балла)** Найдите самую частую причину выбора школы."
   ]
  },
  {
   "cell_type": "code",
   "execution_count": 8,
   "metadata": {
    "collapsed": false
   },
   "outputs": [
    {
     "data": {
      "text/plain": [
       "'course'"
      ]
     },
     "execution_count": 8,
     "metadata": {},
     "output_type": "execute_result"
    }
   ],
   "source": [
    "######################\n",
    "### YOUR CODE HERE ###\n",
    "######################\n",
    "df.reason.value_counts().idxmax()"
   ]
  },
  {
   "cell_type": "markdown",
   "metadata": {},
   "source": [
    "**(1 балл)** В данных есть несколько интересных признаков. Например, школа. Постройте на одной гистограмме распределение целевой переменной в зависимости от школы. Верно или нет, что у студенты одной школы имеют оценки выше, чем другой? Кроме того, интересно также узнать, сказывается ли причина выборка школы на оценках. Постройте аналогичную гистограмму для тех, у кого в поле причины указана самая частая причина (она должна быть найдена в предыдущем пункте) и всех остальных. Верно ли, что студентны, выбравшие данную школу по этой причине более успешны?\n",
    "\n",
    "(Примеры как можно строить такие гистограммы можно посмотреть в материалах к семинарам или [здесь](http://matplotlib.org/examples/statistics/histogram_demo_multihist.html) и [здесь](http://stackoverflow.com/questions/6871201/plot-two-histograms-at-the-same-time-with-matplotlib)). "
   ]
  },
  {
   "cell_type": "code",
   "execution_count": 9,
   "metadata": {
    "collapsed": false
   },
   "outputs": [
    {
     "data": {
      "image/png": "[encoded data removed]",
      "text/plain": [
       "<matplotlib.figure.Figure at 0x41cce30>"
      ]
     },
     "metadata": {},
     "output_type": "display_data"
    }
   ],
   "source": [
    "######################\n",
    "### YOUR CODE HERE ###\n",
    "######################\n",
    "plt.subplot(211)\n",
    "plt.hist(df[df.school == 'GP'].G3, bins=20, alpha=0.7, color='red', label='GP')\n",
    "plt.hist(df[df.school == 'MS'].G3, bins=20, alpha=0.7, color='blue', label='MS')\n",
    "plt.legend()\n",
    "plt.subplot(212)\n",
    "plt.hist(df[df.reason == 'course'].G3, bins=20, alpha=0.7, color='green', label=\"reason='course'\")\n",
    "plt.hist(df[df.reason != 'course'].G3, bins=20, alpha=0.7, color='yellow', label=\"reason!='course'\")\n",
    "plt.legend(prop={'size': 8});"
   ]
  },
  {
   "cell_type": "markdown",
   "metadata": {},
   "source": [
    "**_Видно, что студенты из школы GP учатся лучше, чем студенты из школы MS: среднее по оценкам первых находится в районе 12-13, а среднее по оценкам вторых - в районе 10-11._**\n",
    "\n",
    "**_Неверно, что студенты, выбравшие школу по причине 'course', более успешны, чем остальные, так как из гистограммы видно, что среднее по оценкам первых чуть меньше, чем у вторых._**"
   ]
  },
  {
   "cell_type": "markdown",
   "metadata": {},
   "source": [
    "**(0.5 балла)** Сделайте описание числовых признаков: какое среднее, медиана, дисперсия, минимальное и максимальное значение. Для всех ли признаков эти величины имеют смысл? Если нашлись такие признаки, то поясните почему."
   ]
  },
  {
   "cell_type": "code",
   "execution_count": 10,
   "metadata": {
    "collapsed": false
   },
   "outputs": [
    {
     "data": {
      "text/html": [
       "<div>\n",
       "<table border=\"1\" class=\"dataframe\">\n",
       "  <thead>\n",
       "    <tr style=\"text-align: right;\">\n",
       "      <th></th>\n",
       "      <th>G1</th>\n",
       "      <th>G2</th>\n",
       "      <th>absences</th>\n",
       "      <th>age</th>\n",
       "      <th>failures</th>\n",
       "    </tr>\n",
       "  </thead>\n",
       "  <tbody>\n",
       "    <tr>\n",
       "      <th>mean</th>\n",
       "      <td>11.399076</td>\n",
       "      <td>11.570108</td>\n",
       "      <td>3.659476</td>\n",
       "      <td>16.744222</td>\n",
       "      <td>0.221880</td>\n",
       "    </tr>\n",
       "    <tr>\n",
       "      <th>median</th>\n",
       "      <td>11.000000</td>\n",
       "      <td>11.000000</td>\n",
       "      <td>2.000000</td>\n",
       "      <td>17.000000</td>\n",
       "      <td>0.000000</td>\n",
       "    </tr>\n",
       "    <tr>\n",
       "      <th>variance</th>\n",
       "      <td>7.536481</td>\n",
       "      <td>8.489290</td>\n",
       "      <td>21.536642</td>\n",
       "      <td>1.483859</td>\n",
       "      <td>0.351928</td>\n",
       "    </tr>\n",
       "    <tr>\n",
       "      <th>minimum</th>\n",
       "      <td>0.000000</td>\n",
       "      <td>0.000000</td>\n",
       "      <td>0.000000</td>\n",
       "      <td>15.000000</td>\n",
       "      <td>0.000000</td>\n",
       "    </tr>\n",
       "    <tr>\n",
       "      <th>maximum</th>\n",
       "      <td>19.000000</td>\n",
       "      <td>19.000000</td>\n",
       "      <td>32.000000</td>\n",
       "      <td>22.000000</td>\n",
       "      <td>3.000000</td>\n",
       "    </tr>\n",
       "  </tbody>\n",
       "</table>\n",
       "</div>"
      ],
      "text/plain": [
       "                 G1         G2   absences        age  failures\n",
       "mean      11.399076  11.570108   3.659476  16.744222  0.221880\n",
       "median    11.000000  11.000000   2.000000  17.000000  0.000000\n",
       "variance   7.536481   8.489290  21.536642   1.483859  0.351928\n",
       "minimum    0.000000   0.000000   0.000000  15.000000  0.000000\n",
       "maximum   19.000000  19.000000  32.000000  22.000000  3.000000"
      ]
     },
     "execution_count": 10,
     "metadata": {},
     "output_type": "execute_result"
    }
   ],
   "source": [
    "######################\n",
    "### YOUR CODE HERE ###\n",
    "######################\n",
    "index = ['mean', 'median', 'variance', 'minimum', 'maximum']\n",
    "d = dict()\n",
    "for i in numerical_features:\n",
    "    d[i] = [df[i].mean(), df[i].median(), df[i].var(), df[i].min(), df[i].max()]\n",
    "df_numerical_features = pd.DataFrame(d, index=index)\n",
    "df_numerical_features"
   ]
  },
  {
   "cell_type": "markdown",
   "metadata": {},
   "source": [
    "**_Понятно, что эти величины имеют смысл только для числовых и порядковых (занумерованных) признаков, потому что только эти признаки из рассматриваемых задействуют вещественные числа._**\n",
    "\n",
    "**_В случае числовых признаков, думаю, одной из самых информативных величин является среднее. Максимальное/минимальное значения особо ничего не дадут, как видно из признака, отвечающего за количество ранее не сданных предметов (среднее намного ближе к минимуму, чем к максимуму). Медиана в данном случае немногим отличается от среднего. Дисперсия также может нести в себе определенную полезную информацию._**"
   ]
  },
  {
   "cell_type": "markdown",
   "metadata": {},
   "source": [
    "**(0.75 балла)** Верно ли, что студенты имеющие больше 10 пропусков учатся хуже, чем все остальные? На этот вопрос вы можете ответить, посмотрев на данные любым удобным для вас способом (например, аналогично предыдущим пунктам, либо сравнив средние оценки и т.д.). "
   ]
  },
  {
   "cell_type": "code",
   "execution_count": 11,
   "metadata": {
    "collapsed": false
   },
   "outputs": [
    {
     "name": "stdout",
     "output_type": "stream",
     "text": [
      "10.653061224489797 12.008333333333333\n",
      "True\n"
     ]
    }
   ],
   "source": [
    "######################\n",
    "### YOUR CODE HERE ###\n",
    "######################\n",
    "mean_many_absences = df[df.absences > 10].G3.mean()\n",
    "mean_few_absences = df[df.absences <= 10].G3.mean()\n",
    "print(mean_many_absences, mean_few_absences)\n",
    "print(mean_many_absences < mean_few_absences)"
   ]
  },
  {
   "cell_type": "markdown",
   "metadata": {},
   "source": [
    "**_Таким образом, студенты, имеющие больше 10 пропусков, действительно учатся хуже, чем все остальные._**"
   ]
  },
  {
   "cell_type": "markdown",
   "metadata": {},
   "source": [
    "**(0.75 балла)** Верно ли, что студенты желающие получить высшее образование учатся лучше, чем все остальные? "
   ]
  },
  {
   "cell_type": "code",
   "execution_count": 12,
   "metadata": {
    "collapsed": false
   },
   "outputs": [
    {
     "name": "stdout",
     "output_type": "stream",
     "text": [
      "12.275862068965518 8.797101449275363\n",
      "True\n"
     ]
    }
   ],
   "source": [
    "######################\n",
    "### YOUR CODE HERE ###\n",
    "######################\n",
    "mean_higher_yes = df[df.higher == 'yes'].G3.mean()\n",
    "mean_higher_no = df[df.higher == 'no'].G3.mean()\n",
    "print(mean_higher_yes, mean_higher_no)\n",
    "print(mean_higher_yes > mean_higher_no)"
   ]
  },
  {
   "cell_type": "markdown",
   "metadata": {},
   "source": [
    "**_Таким образом, студенты, желающие получить высшее образование, действительно учатся лучше, чем все остальные._**"
   ]
  },
  {
   "cell_type": "markdown",
   "metadata": {},
   "source": [
    "**(1 балл)** Выберете признаки из не рассмотренных ранее. Какие на ваш взгляд влияют на итоговую оценку? Попробуйте найти закономерности, аналогичные рассмотренным (\"студенты желающие получить высшее образование учатся лучше, чем все остальные\")."
   ]
  },
  {
   "cell_type": "code",
   "execution_count": 13,
   "metadata": {
    "collapsed": false
   },
   "outputs": [
    {
     "name": "stdout",
     "output_type": "stream",
     "text": [
      "13.115789473684211 11.6985559566787\n",
      "True\n",
      "13.181818181818182 11.58027079303675\n",
      "True\n",
      "12.17269076305221 11.026490066225165\n",
      "True\n",
      "11.657243816254416 12.098360655737705\n",
      "True\n",
      "11.279411764705882 11.97934595524957\n",
      "False\n",
      "11.205128205128204 11.950819672131148\n",
      "False\n",
      "11.01010101010101 12.299334811529933\n",
      "True\n",
      "11.523012552301255 12.129268292682926\n",
      "True\n"
     ]
    }
   ],
   "source": [
    "######################\n",
    "### YOUR CODE HERE ###\n",
    "######################\n",
    "mean_highMD_yes = df[(df.Medu == 4) & (df.Fedu == 4)].G3.mean()\n",
    "mean_highMD_no = df[(df.Medu != 4) | (df.Fedu != 4)].G3.mean()\n",
    "print(mean_highMD_yes, mean_highMD_no)\n",
    "print(mean_highMD_yes > mean_highMD_no)\n",
    "\n",
    "mean_study_lot = df[df.studytime > 2].G3.mean()\n",
    "mean_study_few = df[df.studytime <= 2].G3.mean()\n",
    "print(mean_study_lot, mean_study_few)\n",
    "print(mean_study_lot > mean_study_few)\n",
    "\n",
    "mean_internet_yes = df[df.internet == 'yes'].G3.mean()\n",
    "mean_internet_no = df[df.internet == 'no'].G3.mean()\n",
    "print(mean_internet_yes, mean_internet_no)\n",
    "print(mean_internet_yes > mean_internet_no)\n",
    "\n",
    "mean_absences_lot = df[df.absences > 2].G3.mean()\n",
    "mean_absences_few = df[df.absences <= 2].G3.mean()\n",
    "print(mean_absences_lot, mean_absences_few)\n",
    "print(mean_absences_lot < mean_absences_few)\n",
    "\n",
    "mean_schoolsup_yes = df[df.schoolsup == 'yes'].G3.mean()\n",
    "mean_schoolsup_no = df[df.schoolsup == 'no'].G3.mean()\n",
    "print(mean_schoolsup_yes, mean_schoolsup_no)\n",
    "print(mean_schoolsup_yes > mean_schoolsup_no)\n",
    "\n",
    "mean_paid_yes = df[df.paid == 'yes'].G3.mean()\n",
    "mean_paid_no = df[df.paid == 'no'].G3.mean()\n",
    "print(mean_paid_yes, mean_paid_no)\n",
    "print(mean_paid_yes > mean_paid_no)\n",
    "\n",
    "mean_Dalc_often = df[df.Dalc > df.Dalc.median()].G3.mean()\n",
    "mean_Dalc_rarely = df[df.Dalc <= df.Dalc.median()].G3.mean()\n",
    "print(mean_Dalc_often, mean_Dalc_rarely)\n",
    "print(mean_Dalc_often < mean_Dalc_rarely)\n",
    "\n",
    "mean_romantic_yes = df[df.romantic == 'yes'].G3.mean()\n",
    "mean_romantic_no = df[df.romantic == 'no'].G3.mean()\n",
    "print(mean_romantic_yes, mean_romantic_no)\n",
    "print(mean_romantic_yes < mean_romantic_no)"
   ]
  },
  {
   "cell_type": "markdown",
   "metadata": {},
   "source": [
    "**_На итоговую оценку напрямую могут влиять наличие у родителей высшего образования, количество учебных часов в неделю, наличие домашнего интернета (может оказаться полезным для поиска необходимой информации), количество пропусков. Оказывается, что все действительно так; единственное замечание - количество пропусков влияет на оценку совсем незначительно._**\n",
    "\n",
    "**_Интересно, что наличие дополнительных занятий (как платных, так и нет) оказывает негативное влияние на итоговую оценку (хотя она получается примерно одинаковой у тех, кто берет занятия и кто не берет). Стоит отметить, что употребление алкоголя в будние дни сравнительно сильно влияет на итоговую оценку: кто пьет в будни больше, тот в среднем хуже учится._**\n",
    "\n",
    "**_Забавно также то, что студенты, не состоящие в романтических отношениях, в среднем учатся лучше, чем остальные. Возможно это связано с тем, что у них благодаря отсутствию таких отношений появляется больше времени на занятия._**"
   ]
  }
 ],
 "metadata": {
  "kernelspec": {
   "display_name": "Python [default]",
   "language": "python",
   "name": "python3"
  },
  "language_info": {
   "codemirror_mode": {
    "name": "ipython",
    "version": 3
   },
   "file_extension": ".py",
   "mimetype": "text/x-python",
   "name": "python",
   "nbconvert_exporter": "python",
   "pygments_lexer": "ipython3",
   "version": "3.5.2"
  }
 },
 "nbformat": 4,
 "nbformat_minor": 0
}
