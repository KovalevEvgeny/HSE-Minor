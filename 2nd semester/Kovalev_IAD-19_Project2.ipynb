{
 "cells": [
  {
   "cell_type": "code",
   "execution_count": 1,
   "metadata": {
    "collapsed": false
   },
   "outputs": [],
   "source": [
    "import numpy as np\n",
    "import pandas as pd\n",
    "import matplotlib.pyplot as plt\n",
    "from sklearn.cross_validation import train_test_split\n",
    "from sklearn.linear_model import Ridge, Lasso\n",
    "from sklearn.ensemble import RandomForestRegressor\n",
    "from sklearn.tree import DecisionTreeRegressor\n",
    "from sklearn.neighbors import KNeighborsRegressor\n",
    "from sklearn.grid_search import GridSearchCV\n",
    "from sklearn.learning_curve import validation_curve\n",
    "from sklearn.metrics import mean_squared_error\n",
    "\n",
    "%matplotlib inline"
   ]
  },
  {
   "cell_type": "code",
   "execution_count": 2,
   "metadata": {
    "collapsed": false,
    "scrolled": true
   },
   "outputs": [
    {
     "data": {
      "text/html": [
       "<div>\n",
       "<table border=\"1\" class=\"dataframe\">\n",
       "  <thead>\n",
       "    <tr style=\"text-align: right;\">\n",
       "      <th></th>\n",
       "      <th>school</th>\n",
       "      <th>sex</th>\n",
       "      <th>age</th>\n",
       "      <th>address</th>\n",
       "      <th>famsize</th>\n",
       "      <th>Pstatus</th>\n",
       "      <th>Medu</th>\n",
       "      <th>Fedu</th>\n",
       "      <th>Mjob</th>\n",
       "      <th>Fjob</th>\n",
       "      <th>...</th>\n",
       "      <th>famrel</th>\n",
       "      <th>freetime</th>\n",
       "      <th>goout</th>\n",
       "      <th>Dalc</th>\n",
       "      <th>Walc</th>\n",
       "      <th>health</th>\n",
       "      <th>absences</th>\n",
       "      <th>G1</th>\n",
       "      <th>G2</th>\n",
       "      <th>G3</th>\n",
       "    </tr>\n",
       "  </thead>\n",
       "  <tbody>\n",
       "    <tr>\n",
       "      <th>0</th>\n",
       "      <td>GP</td>\n",
       "      <td>F</td>\n",
       "      <td>18</td>\n",
       "      <td>U</td>\n",
       "      <td>GT3</td>\n",
       "      <td>A</td>\n",
       "      <td>4</td>\n",
       "      <td>4</td>\n",
       "      <td>at_home</td>\n",
       "      <td>teacher</td>\n",
       "      <td>...</td>\n",
       "      <td>4</td>\n",
       "      <td>3</td>\n",
       "      <td>4</td>\n",
       "      <td>1</td>\n",
       "      <td>1</td>\n",
       "      <td>3</td>\n",
       "      <td>4</td>\n",
       "      <td>0</td>\n",
       "      <td>11</td>\n",
       "      <td>11</td>\n",
       "    </tr>\n",
       "    <tr>\n",
       "      <th>1</th>\n",
       "      <td>GP</td>\n",
       "      <td>F</td>\n",
       "      <td>17</td>\n",
       "      <td>U</td>\n",
       "      <td>GT3</td>\n",
       "      <td>T</td>\n",
       "      <td>1</td>\n",
       "      <td>1</td>\n",
       "      <td>at_home</td>\n",
       "      <td>other</td>\n",
       "      <td>...</td>\n",
       "      <td>5</td>\n",
       "      <td>3</td>\n",
       "      <td>3</td>\n",
       "      <td>1</td>\n",
       "      <td>1</td>\n",
       "      <td>3</td>\n",
       "      <td>2</td>\n",
       "      <td>9</td>\n",
       "      <td>11</td>\n",
       "      <td>11</td>\n",
       "    </tr>\n",
       "    <tr>\n",
       "      <th>2</th>\n",
       "      <td>GP</td>\n",
       "      <td>F</td>\n",
       "      <td>15</td>\n",
       "      <td>U</td>\n",
       "      <td>LE3</td>\n",
       "      <td>T</td>\n",
       "      <td>1</td>\n",
       "      <td>1</td>\n",
       "      <td>at_home</td>\n",
       "      <td>other</td>\n",
       "      <td>...</td>\n",
       "      <td>4</td>\n",
       "      <td>3</td>\n",
       "      <td>2</td>\n",
       "      <td>2</td>\n",
       "      <td>3</td>\n",
       "      <td>3</td>\n",
       "      <td>6</td>\n",
       "      <td>12</td>\n",
       "      <td>13</td>\n",
       "      <td>12</td>\n",
       "    </tr>\n",
       "    <tr>\n",
       "      <th>3</th>\n",
       "      <td>GP</td>\n",
       "      <td>F</td>\n",
       "      <td>15</td>\n",
       "      <td>U</td>\n",
       "      <td>GT3</td>\n",
       "      <td>T</td>\n",
       "      <td>4</td>\n",
       "      <td>2</td>\n",
       "      <td>health</td>\n",
       "      <td>services</td>\n",
       "      <td>...</td>\n",
       "      <td>3</td>\n",
       "      <td>2</td>\n",
       "      <td>2</td>\n",
       "      <td>1</td>\n",
       "      <td>1</td>\n",
       "      <td>5</td>\n",
       "      <td>0</td>\n",
       "      <td>14</td>\n",
       "      <td>14</td>\n",
       "      <td>14</td>\n",
       "    </tr>\n",
       "    <tr>\n",
       "      <th>4</th>\n",
       "      <td>GP</td>\n",
       "      <td>F</td>\n",
       "      <td>16</td>\n",
       "      <td>U</td>\n",
       "      <td>GT3</td>\n",
       "      <td>T</td>\n",
       "      <td>3</td>\n",
       "      <td>3</td>\n",
       "      <td>other</td>\n",
       "      <td>other</td>\n",
       "      <td>...</td>\n",
       "      <td>4</td>\n",
       "      <td>3</td>\n",
       "      <td>2</td>\n",
       "      <td>1</td>\n",
       "      <td>2</td>\n",
       "      <td>5</td>\n",
       "      <td>0</td>\n",
       "      <td>11</td>\n",
       "      <td>13</td>\n",
       "      <td>13</td>\n",
       "    </tr>\n",
       "  </tbody>\n",
       "</table>\n",
       "<p>5 rows × 33 columns</p>\n",
       "</div>"
      ],
      "text/plain": [
       "  school sex  age address famsize Pstatus  Medu  Fedu     Mjob      Fjob ...  \\\n",
       "0     GP   F   18       U     GT3       A     4     4  at_home   teacher ...   \n",
       "1     GP   F   17       U     GT3       T     1     1  at_home     other ...   \n",
       "2     GP   F   15       U     LE3       T     1     1  at_home     other ...   \n",
       "3     GP   F   15       U     GT3       T     4     2   health  services ...   \n",
       "4     GP   F   16       U     GT3       T     3     3    other     other ...   \n",
       "\n",
       "  famrel freetime  goout  Dalc  Walc health absences  G1  G2  G3  \n",
       "0      4        3      4     1     1      3        4   0  11  11  \n",
       "1      5        3      3     1     1      3        2   9  11  11  \n",
       "2      4        3      2     2     3      3        6  12  13  12  \n",
       "3      3        2      2     1     1      5        0  14  14  14  \n",
       "4      4        3      2     1     2      5        0  11  13  13  \n",
       "\n",
       "[5 rows x 33 columns]"
      ]
     },
     "execution_count": 2,
     "metadata": {},
     "output_type": "execute_result"
    }
   ],
   "source": [
    "df = pd.read_csv('student-por.csv', ';')\n",
    "df.head()"
   ]
  },
  {
   "cell_type": "markdown",
   "metadata": {},
   "source": [
    "**1. Разбейте выборку случайным образом на обучение и контроль (train_test_split из sklearn). В обучение попадает 30% выборки, в контроль 70%. Разбейте контроль в отношении 4:3. Большая часть - контрольная выборка, которой вы будете пользоваться. Меньшая часть - скрытый контроль - используется только в последнем пункте.**"
   ]
  },
  {
   "cell_type": "code",
   "execution_count": 3,
   "metadata": {
    "collapsed": false
   },
   "outputs": [
    {
     "name": "stdout",
     "output_type": "stream",
     "text": [
      "[528 135 277  16 473 420 372 263 262 316 405 551 314 491  25 195 529 508\n",
      " 426 453 202 122 437 236 355 271 342 626 639 381 288 443  94   8 550  89\n",
      " 359 540 612 346 385 427  15 327 305 484 299 524 618 349 382 383  50 300\n",
      " 638 219 363  99 511 237 493 295 244 578 559 175 609 590 149 471 554 139\n",
      " 126  63 403 151 337 206 367 141 378 107 419 631 574   4 230   1 200 362\n",
      " 472 238 279 231 449 286 205 118 272 404  47 108  68 130  64 573 616 106\n",
      " 489 318 306 402 133 636 321 353 276 494 497  90 188 373  22 523 401 340\n",
      " 394 433 253 533 454 105 455 311 474 595 303 526 203 407  82   7 199 225\n",
      "  67 308 384 216  43 581  20 124 615 323 431 290 338 269 632 198 460 393\n",
      "  56  51  91 304 211 504 115   2 418 208  30 591 140 633 552 586 132 530\n",
      " 335 495 121 375  54 110 146 468 161 451 201  73 553 370] 194\n",
      "[387 223 291  84 100 429 261   6 521  79 176 434 558 157 254 366 556 250\n",
      "  83 137 503  36 193  34 148 450 417 396 152 490  35 641 512 350 391 510\n",
      " 601  44 446 348 517 607 196 343  65  28 131 186  72 585 479 399  92  87\n",
      " 547 625  62 296 532 210 333 104 185 488 531 171   0 604 136 519 588 180\n",
      " 414  14 435 515 154  23 112 564 518  77 628 619 192 412 246 379 501 294\n",
      " 447  70 498 242 569 358 535 336 549 408  40 259 317 620 326 302 368 241\n",
      " 606  31 182 483  60 567 423 226 165 307 120 221 562 257  38 153 415 134\n",
      " 285 597 322 470 496 256 544 160 266 456 177  26 568 156 476 507 229 235\n",
      "  59 102 561 212 376  69 298 555 283 312 270  96 111 570 138 184 596 252\n",
      " 603 441 159 119  81 397 513 264 409 617 543 635 522  48 545 386 406 538\n",
      " 579 330 125 624 158 172 284 644 469 452 445 352 167  97 178 245 228 592\n",
      " 287 281  53 542 575  24 583 525 129 168 534 114 587 117 424   5  12 389\n",
      " 215  37 255 457 371 485 374 351 462  29   9 174 127 341 428 357 328 364\n",
      " 613  27 267  58 395  71 273 209 548 463 622 234 190 439  45 345  74 258\n",
      " 646 645 101 310 247 240 147] 259\n",
      "[187 380 334 197  46 354 482  76 416 598 325 623 502 398 589 509 608 142\n",
      " 546 430 611 411 162 557 189 520 432 116  13  18 344  95 481 289 647 339\n",
      " 577 292 610 465  78 480 576  21 360 642  32 243 640  80 438 537 527 506\n",
      " 282 169 582 239 332 461 377 563 249 536 478 265  41 410 128 347 487 214\n",
      " 319 166 593 155 475 309  19 204 605  42 467 251 560 566 436  49 274  93\n",
      " 301 179 448 233 109 584 324  39 621 170 232 572 213  98 594 492 275 331\n",
      " 164 602 422 144 400 313  17 630 207 280 599 222 227  57 123 571 297  52\n",
      " 500 388 365  86  61 248 413 565 514 191 369 220 459 183  88  11 643 268\n",
      " 421 113  33 464 442 173 580 629 444 634 329 486 505 150 600 356  85 163\n",
      " 315 614  10 627 260 194 539 143 361 218 145 390   3 103 541 466 458  55\n",
      " 425 637  75 648 499 217 278 181 293 224 477 440 516 392 320  66] 196\n"
     ]
    }
   ],
   "source": [
    "# X - набор номеров, присвоенных студентам, длина которого равна количеству строк в исходной таблице\n",
    "X = np.arange(df.shape[0])\n",
    "\n",
    "# разбиваем выборку на обучение и контроль в заданном соотношении\n",
    "X_train, X_test = train_test_split(X, test_size=0.7)\n",
    "\n",
    "# разбиваем контроль (X_test) в отношении 4:3, т.е. в используемую контрольную выборку попадет ~57%\n",
    "X_control, X_concealed = train_test_split(X_test, train_size=0.57)\n",
    "\n",
    "print(X_train, len(X_train))\n",
    "print(X_control, len(X_control))\n",
    "print(X_concealed, len(X_concealed))"
   ]
  },
  {
   "cell_type": "markdown",
   "metadata": {},
   "source": [
    "**2. Задача сводится к предсказанию целевого признака G3 (не используя признаки G1 и G2) по обучающей выборке. С учетом предыдущей части проекта определитесь с пространством признаков, с которым вы будете работать. Можно генерировать новые признаки из уже существующих.**"
   ]
  },
  {
   "cell_type": "markdown",
   "metadata": {},
   "source": [
    "В первой части проекта мной были проанализированы некоторые признаки, в ходе чего было выявлено, что на итоговую оценку (G3) в среднем влияют выбор школы (school), количество пропусков (absences), желание получить высшее образование (higher), наличие у родителей высшего образования (Medu, Fedu), количество учебных часов в неделю (studytime), наличие домашнего интернета (internet), наличие дополнительных и платных дополнительных занятий (schoolsup, paid), употребление алкоголя в будние дни (Dalc), наличие романтических отношений (romantic). С ними я и буду работать."
   ]
  },
  {
   "cell_type": "code",
   "execution_count": 4,
   "metadata": {
    "collapsed": false
   },
   "outputs": [
    {
     "data": {
      "text/html": [
       "<div>\n",
       "<table border=\"1\" class=\"dataframe\">\n",
       "  <thead>\n",
       "    <tr style=\"text-align: right;\">\n",
       "      <th></th>\n",
       "      <th>school</th>\n",
       "      <th>Medu</th>\n",
       "      <th>Fedu</th>\n",
       "      <th>studytime</th>\n",
       "      <th>schoolsup</th>\n",
       "      <th>paid</th>\n",
       "      <th>higher</th>\n",
       "      <th>internet</th>\n",
       "      <th>romantic</th>\n",
       "      <th>Dalc</th>\n",
       "      <th>absences</th>\n",
       "      <th>G3</th>\n",
       "    </tr>\n",
       "  </thead>\n",
       "  <tbody>\n",
       "    <tr>\n",
       "      <th>0</th>\n",
       "      <td>GP</td>\n",
       "      <td>4</td>\n",
       "      <td>4</td>\n",
       "      <td>2</td>\n",
       "      <td>yes</td>\n",
       "      <td>no</td>\n",
       "      <td>yes</td>\n",
       "      <td>no</td>\n",
       "      <td>no</td>\n",
       "      <td>1</td>\n",
       "      <td>4</td>\n",
       "      <td>11</td>\n",
       "    </tr>\n",
       "    <tr>\n",
       "      <th>1</th>\n",
       "      <td>GP</td>\n",
       "      <td>1</td>\n",
       "      <td>1</td>\n",
       "      <td>2</td>\n",
       "      <td>no</td>\n",
       "      <td>no</td>\n",
       "      <td>yes</td>\n",
       "      <td>yes</td>\n",
       "      <td>no</td>\n",
       "      <td>1</td>\n",
       "      <td>2</td>\n",
       "      <td>11</td>\n",
       "    </tr>\n",
       "    <tr>\n",
       "      <th>2</th>\n",
       "      <td>GP</td>\n",
       "      <td>1</td>\n",
       "      <td>1</td>\n",
       "      <td>2</td>\n",
       "      <td>yes</td>\n",
       "      <td>no</td>\n",
       "      <td>yes</td>\n",
       "      <td>yes</td>\n",
       "      <td>no</td>\n",
       "      <td>2</td>\n",
       "      <td>6</td>\n",
       "      <td>12</td>\n",
       "    </tr>\n",
       "    <tr>\n",
       "      <th>3</th>\n",
       "      <td>GP</td>\n",
       "      <td>4</td>\n",
       "      <td>2</td>\n",
       "      <td>3</td>\n",
       "      <td>no</td>\n",
       "      <td>no</td>\n",
       "      <td>yes</td>\n",
       "      <td>yes</td>\n",
       "      <td>yes</td>\n",
       "      <td>1</td>\n",
       "      <td>0</td>\n",
       "      <td>14</td>\n",
       "    </tr>\n",
       "    <tr>\n",
       "      <th>4</th>\n",
       "      <td>GP</td>\n",
       "      <td>3</td>\n",
       "      <td>3</td>\n",
       "      <td>2</td>\n",
       "      <td>no</td>\n",
       "      <td>no</td>\n",
       "      <td>yes</td>\n",
       "      <td>no</td>\n",
       "      <td>no</td>\n",
       "      <td>1</td>\n",
       "      <td>0</td>\n",
       "      <td>13</td>\n",
       "    </tr>\n",
       "  </tbody>\n",
       "</table>\n",
       "</div>"
      ],
      "text/plain": [
       "  school  Medu  Fedu  studytime schoolsup paid higher internet romantic  Dalc  \\\n",
       "0     GP     4     4          2       yes   no    yes       no       no     1   \n",
       "1     GP     1     1          2        no   no    yes      yes       no     1   \n",
       "2     GP     1     1          2       yes   no    yes      yes       no     2   \n",
       "3     GP     4     2          3        no   no    yes      yes      yes     1   \n",
       "4     GP     3     3          2        no   no    yes       no       no     1   \n",
       "\n",
       "   absences  G3  \n",
       "0         4  11  \n",
       "1         2  11  \n",
       "2         6  12  \n",
       "3         0  14  \n",
       "4         0  13  "
      ]
     },
     "execution_count": 4,
     "metadata": {},
     "output_type": "execute_result"
    }
   ],
   "source": [
    "df = df[['school', 'Medu', 'Fedu', 'studytime', 'schoolsup', 'paid', 'higher', \n",
    "         'internet', 'romantic', 'Dalc', 'absences', 'G3']]\n",
    "df.head()"
   ]
  },
  {
   "cell_type": "code",
   "execution_count": 5,
   "metadata": {
    "collapsed": false
   },
   "outputs": [
    {
     "data": {
      "text/html": [
       "<div>\n",
       "<table border=\"1\" class=\"dataframe\">\n",
       "  <thead>\n",
       "    <tr style=\"text-align: right;\">\n",
       "      <th></th>\n",
       "      <th>Medu</th>\n",
       "      <th>Fedu</th>\n",
       "      <th>studytime</th>\n",
       "      <th>Dalc</th>\n",
       "      <th>absences</th>\n",
       "      <th>G3</th>\n",
       "      <th>school_GP</th>\n",
       "      <th>school_MS</th>\n",
       "      <th>schoolsup_no</th>\n",
       "      <th>schoolsup_yes</th>\n",
       "      <th>paid_no</th>\n",
       "      <th>paid_yes</th>\n",
       "      <th>higher_no</th>\n",
       "      <th>higher_yes</th>\n",
       "      <th>internet_no</th>\n",
       "      <th>internet_yes</th>\n",
       "      <th>romantic_no</th>\n",
       "      <th>romantic_yes</th>\n",
       "    </tr>\n",
       "  </thead>\n",
       "  <tbody>\n",
       "    <tr>\n",
       "      <th>0</th>\n",
       "      <td>4</td>\n",
       "      <td>4</td>\n",
       "      <td>2</td>\n",
       "      <td>1</td>\n",
       "      <td>4</td>\n",
       "      <td>11</td>\n",
       "      <td>1</td>\n",
       "      <td>0</td>\n",
       "      <td>0</td>\n",
       "      <td>1</td>\n",
       "      <td>1</td>\n",
       "      <td>0</td>\n",
       "      <td>0</td>\n",
       "      <td>1</td>\n",
       "      <td>1</td>\n",
       "      <td>0</td>\n",
       "      <td>1</td>\n",
       "      <td>0</td>\n",
       "    </tr>\n",
       "    <tr>\n",
       "      <th>1</th>\n",
       "      <td>1</td>\n",
       "      <td>1</td>\n",
       "      <td>2</td>\n",
       "      <td>1</td>\n",
       "      <td>2</td>\n",
       "      <td>11</td>\n",
       "      <td>1</td>\n",
       "      <td>0</td>\n",
       "      <td>1</td>\n",
       "      <td>0</td>\n",
       "      <td>1</td>\n",
       "      <td>0</td>\n",
       "      <td>0</td>\n",
       "      <td>1</td>\n",
       "      <td>0</td>\n",
       "      <td>1</td>\n",
       "      <td>1</td>\n",
       "      <td>0</td>\n",
       "    </tr>\n",
       "    <tr>\n",
       "      <th>2</th>\n",
       "      <td>1</td>\n",
       "      <td>1</td>\n",
       "      <td>2</td>\n",
       "      <td>2</td>\n",
       "      <td>6</td>\n",
       "      <td>12</td>\n",
       "      <td>1</td>\n",
       "      <td>0</td>\n",
       "      <td>0</td>\n",
       "      <td>1</td>\n",
       "      <td>1</td>\n",
       "      <td>0</td>\n",
       "      <td>0</td>\n",
       "      <td>1</td>\n",
       "      <td>0</td>\n",
       "      <td>1</td>\n",
       "      <td>1</td>\n",
       "      <td>0</td>\n",
       "    </tr>\n",
       "    <tr>\n",
       "      <th>3</th>\n",
       "      <td>4</td>\n",
       "      <td>2</td>\n",
       "      <td>3</td>\n",
       "      <td>1</td>\n",
       "      <td>0</td>\n",
       "      <td>14</td>\n",
       "      <td>1</td>\n",
       "      <td>0</td>\n",
       "      <td>1</td>\n",
       "      <td>0</td>\n",
       "      <td>1</td>\n",
       "      <td>0</td>\n",
       "      <td>0</td>\n",
       "      <td>1</td>\n",
       "      <td>0</td>\n",
       "      <td>1</td>\n",
       "      <td>0</td>\n",
       "      <td>1</td>\n",
       "    </tr>\n",
       "    <tr>\n",
       "      <th>4</th>\n",
       "      <td>3</td>\n",
       "      <td>3</td>\n",
       "      <td>2</td>\n",
       "      <td>1</td>\n",
       "      <td>0</td>\n",
       "      <td>13</td>\n",
       "      <td>1</td>\n",
       "      <td>0</td>\n",
       "      <td>1</td>\n",
       "      <td>0</td>\n",
       "      <td>1</td>\n",
       "      <td>0</td>\n",
       "      <td>0</td>\n",
       "      <td>1</td>\n",
       "      <td>1</td>\n",
       "      <td>0</td>\n",
       "      <td>1</td>\n",
       "      <td>0</td>\n",
       "    </tr>\n",
       "  </tbody>\n",
       "</table>\n",
       "</div>"
      ],
      "text/plain": [
       "   Medu  Fedu  studytime  Dalc  absences  G3  school_GP  school_MS  \\\n",
       "0     4     4          2     1         4  11          1          0   \n",
       "1     1     1          2     1         2  11          1          0   \n",
       "2     1     1          2     2         6  12          1          0   \n",
       "3     4     2          3     1         0  14          1          0   \n",
       "4     3     3          2     1         0  13          1          0   \n",
       "\n",
       "   schoolsup_no  schoolsup_yes  paid_no  paid_yes  higher_no  higher_yes  \\\n",
       "0             0              1        1         0          0           1   \n",
       "1             1              0        1         0          0           1   \n",
       "2             0              1        1         0          0           1   \n",
       "3             1              0        1         0          0           1   \n",
       "4             1              0        1         0          0           1   \n",
       "\n",
       "   internet_no  internet_yes  romantic_no  romantic_yes  \n",
       "0            1             0            1             0  \n",
       "1            0             1            1             0  \n",
       "2            0             1            1             0  \n",
       "3            0             1            0             1  \n",
       "4            1             0            1             0  "
      ]
     },
     "execution_count": 5,
     "metadata": {},
     "output_type": "execute_result"
    }
   ],
   "source": [
    "# для текстовых признаков применим one-hot-кодирование, чтобы все значения в таблице были численными\n",
    "df = pd.get_dummies(df)\n",
    "df.head()"
   ]
  },
  {
   "cell_type": "code",
   "execution_count": 6,
   "metadata": {
    "collapsed": false
   },
   "outputs": [],
   "source": [
    "# формируем таблицы, соответствующие проведенным выборкам студентов\n",
    "df_original = df.ix[X_train]\n",
    "df_control = df.ix[X_control]\n",
    "df_concealed = df.ix[X_concealed]\n",
    "\n",
    "# здесь формируем для каждой выборки признаковое описание и результат (значение G3)\n",
    "df_train = df_original.drop('G3', axis=1)\n",
    "df_target = df_original.G3\n",
    "df_control_features = df_control.drop('G3', axis=1)\n",
    "df_control_target = df_control.G3\n",
    "df_concealed_features = df_concealed.drop('G3', axis=1)\n",
    "df_concealed_target = df_concealed.G3"
   ]
  },
  {
   "cell_type": "code",
   "execution_count": 12,
   "metadata": {
    "collapsed": false
   },
   "outputs": [
    {
     "data": {
      "text/plain": [
       "(194,)"
      ]
     },
     "execution_count": 12,
     "metadata": {},
     "output_type": "execute_result"
    }
   ],
   "source": [
    "np.shape(df_train)"
   ]
  },
  {
   "cell_type": "code",
   "execution_count": 13,
   "metadata": {
    "collapsed": false
   },
   "outputs": [
    {
     "data": {
      "text/plain": [
       "(194,)"
      ]
     },
     "execution_count": 13,
     "metadata": {},
     "output_type": "execute_result"
    }
   ],
   "source": [
    "np.shape(df_target)"
   ]
  },
  {
   "cell_type": "markdown",
   "metadata": {},
   "source": [
    "**3. Обратите внимание, что задачу можно рассматривать как задачу классификации, а можно - как задачу регрессии. Настроить как минимум 5 различных классификаторов, подобрать гиперпараметры для каждого с помощью кросс-валидации. Построить графики зависимости качества на кросс-валидации от значений гиперпараметров.**"
   ]
  },
  {
   "cell_type": "markdown",
   "metadata": {},
   "source": [
    "Я еще в первой части проекта рассматривал задачу как задачу регрессии. Поэтому здесь я буду отталкиваться от этого и настраивать регрессоры."
   ]
  },
  {
   "cell_type": "code",
   "execution_count": 35,
   "metadata": {
    "collapsed": false
   },
   "outputs": [],
   "source": [
    "# массив регрессоров, гиперпараметры к которым будут настраиваться\n",
    "regs = [Ridge(), Lasso(), RandomForestRegressor(), DecisionTreeRegressor(), KNeighborsRegressor()]\n",
    "\n",
    "# массив настраиваемых параметров и их возможных значений\n",
    "regs_parameters = [{'alpha': np.arange(1, 30, 0.5)}, {'alpha': np.linspace(0, 0.1, 25)[1:]},\n",
    "                   {'n_estimators': np.arange(10, 61, 2)}, {'min_samples_leaf': np.arange(3, 61, 3)}, \n",
    "                   {'n_neighbors': np.arange(2, 41, 2)}]"
   ]
  },
  {
   "cell_type": "code",
   "execution_count": 36,
   "metadata": {
    "collapsed": false
   },
   "outputs": [
    {
     "name": "stdout",
     "output_type": "stream",
     "text": [
      "{'alpha': 29.5}\n"
     ]
    },
    {
     "data": {
      "image/png": "[encoded data removed]",
      "text/plain": [
       "<matplotlib.figure.Figure at 0x5aa9750>"
      ]
     },
     "metadata": {},
     "output_type": "display_data"
    },
    {
     "name": "stdout",
     "output_type": "stream",
     "text": [
      "{'alpha': 0.012500000000000001}\n"
     ]
    },
    {
     "data": {
      "image/png": "[encoded data removed]",
      "text/plain": [
       "<matplotlib.figure.Figure at 0x5b301d0>"
      ]
     },
     "metadata": {},
     "output_type": "display_data"
    },
    {
     "name": "stdout",
     "output_type": "stream",
     "text": [
      "{'n_estimators': 28}\n"
     ]
    },
    {
     "data": {
      "image/png": "[encoded data removed]",
      "text/plain": [
       "<matplotlib.figure.Figure at 0x5d26ad0>"
      ]
     },
     "metadata": {},
     "output_type": "display_data"
    },
    {
     "name": "stdout",
     "output_type": "stream",
     "text": [
      "{'min_samples_leaf': 54}\n"
     ]
    },
    {
     "data": {
      "image/png": "[encoded data removed]",
      "text/plain": [
       "<matplotlib.figure.Figure at 0x5528790>"
      ]
     },
     "metadata": {},
     "output_type": "display_data"
    },
    {
     "name": "stdout",
     "output_type": "stream",
     "text": [
      "{'n_neighbors': 14}\n"
     ]
    },
    {
     "data": {
      "image/png": "[encoded data removed]",
      "text/plain": [
       "<matplotlib.figure.Figure at 0x55aa910>"
      ]
     },
     "metadata": {},
     "output_type": "display_data"
    }
   ],
   "source": [
    "# с помощью функции ниже можно будет построить графики зависимости качества на кросс-валидации для всех\n",
    "# регрессоров сразу\n",
    "\n",
    "def plot_validation_curve(reg, reg_parameter, title):\n",
    "    param_name = list(reg_parameter.keys())[0]\n",
    "    param_range = list(reg_parameter.values())[0]\n",
    "    train_scores, test_scores = validation_curve(\n",
    "        reg, df_train, df_target, param_name=param_name, param_range=param_range,\n",
    "        cv=5, scoring='mean_squared_error')\n",
    "    \n",
    "    # среднее значение берется с минусом, так как оно получается отрицательным. В гугле нашел, что\n",
    "    # это норма; возможно (я могу быть не прав), это происходит из-за того, что в прописанных\n",
    "    # в sklearn функциях ошибка максимизируется при анализе качества, и поэтому разработчики\n",
    "    # решили не напрягаться и стали рассматривать MSE с минусом. В общем, надо смотреть на модуль\n",
    "    train_scores_mean = np.sqrt(-np.mean(train_scores, axis=1))\n",
    "    train_scores_std = np.sqrt(np.std(train_scores, axis=1))\n",
    "    test_scores_mean = np.sqrt(-np.mean(test_scores, axis=1))\n",
    "    test_scores_std = np.sqrt(np.std(test_scores, axis=1))\n",
    "    \n",
    "    plt.figure()\n",
    "    plt.title(title)\n",
    "    plt.xlabel(param_name)\n",
    "    plt.ylabel('Score')\n",
    "    plt.plot(param_range, train_scores_mean, label='Training score', color='r')\n",
    "    plt.fill_between(param_range, train_scores_mean - train_scores_std,\n",
    "                     train_scores_mean + train_scores_std, alpha=0.2, color='r')\n",
    "    plt.plot(param_range, test_scores_mean, label='Cross-validation score',\n",
    "                 color='g')\n",
    "    plt.fill_between(param_range, test_scores_mean - test_scores_std,\n",
    "                     test_scores_mean + test_scores_std, alpha=0.2, color='g')\n",
    "    plt.legend(loc='best')\n",
    "    return plt\n",
    "\n",
    "# теперь найдем нужные гиперпараметры, попутно нарисовав график\n",
    "for i in range(len(regs)):\n",
    "    reg = regs[i]\n",
    "    reg_parameter = regs_parameters[i]\n",
    "    grid_search = GridSearchCV(reg, reg_parameter, cv=5)\n",
    "    grid_search.fit(df_train, df_target)\n",
    "    print(grid_search.best_params_)\n",
    "    plot_validation_curve(reg, reg_parameter, str(i + 1))\n",
    "    plt.show()\n",
    "    \n",
    "    # в исходном массиве с регрессорами заменим каждый элемент на соответствующий регрессор с найденным\n",
    "    # значением гиперпараметра\n",
    "    regs[i] = grid_search.best_estimator_"
   ]
  },
  {
   "cell_type": "markdown",
   "metadata": {},
   "source": [
    "**4. Оценить качество классификаторов на контроле (например, в качестве функционала ошибок можно использовать RMSE). Выбрать наилучший.**"
   ]
  },
  {
   "cell_type": "code",
   "execution_count": 45,
   "metadata": {
    "collapsed": false
   },
   "outputs": [
    {
     "name": "stdout",
     "output_type": "stream",
     "text": [
      "3.0618385592\n",
      "3.04858313249\n",
      "3.20571073172\n",
      "3.24832343422\n",
      "3.24325366728\n"
     ]
    }
   ],
   "source": [
    "# новый массив с предсказаниями регрессоров\n",
    "reg_preds = []\n",
    "\n",
    "# предсказываем и считаем RMSE\n",
    "for reg in regs:\n",
    "    reg_pred = reg.predict(df_control_features)\n",
    "    reg_preds.append(reg_pred)\n",
    "    print(np.sqrt(mean_squared_error(df_control_target, reg_pred)))"
   ]
  },
  {
   "cell_type": "markdown",
   "metadata": {},
   "source": [
    "Видно, что на данном разбиении из выбранных регрессоров лучшее качество имеют Ridge и Lasso (первый чуть уступает второму), остальные регрессоры работают чуть хуже (причем решающее дерево и kNN работают почти одинаково)."
   ]
  },
  {
   "cell_type": "markdown",
   "metadata": {},
   "source": [
    "**5. Рассмотреть простые композиции алгоритмов (хотя бы 2), проверить их качество.**"
   ]
  },
  {
   "cell_type": "code",
   "execution_count": 48,
   "metadata": {
    "collapsed": false
   },
   "outputs": [
    {
     "name": "stdout",
     "output_type": "stream",
     "text": [
      "3.05056539043\n",
      "3.03902318756\n"
     ]
    }
   ],
   "source": [
    "# сначала берем результаты лучших регрессоров с одинаковыми весами\n",
    "new_pred1 = 0.5 * reg_preds[0] + 0.5 * reg_preds[1]\n",
    "\n",
    "# здесь отдаем приоритет самому лучшему регрессору (Lasso), а те, что похуже, включаем с очень\n",
    "# маленькими весами\n",
    "new_pred2 = 0.7 * reg_preds[1] + 0.1 * (reg_preds[2] + reg_preds[3] + reg_preds[4])\n",
    "\n",
    "print(np.sqrt(mean_squared_error(df_control_target, new_pred1)))\n",
    "print(np.sqrt(mean_squared_error(df_control_target, new_pred2)))"
   ]
  },
  {
   "cell_type": "markdown",
   "metadata": {},
   "source": [
    "Оказалось, что последняя композиция, состоящая из Lasso с большим весом и из Random Forest, решающего дерева и kNN с очень маленькими весами (далее - композиция 2) работает на данной выборке лучше всех рассмотренных алгоритмов. Стоит также заметить, что относительно хорошее качество показывает и композиция из Lasso и Ridge с одинаковыми весами (далее - композиция 1)."
   ]
  },
  {
   "cell_type": "markdown",
   "metadata": {},
   "source": [
    "**6. Выбрать финальный классификатор, посчитать качество на скрытом контроле.**"
   ]
  },
  {
   "cell_type": "code",
   "execution_count": 52,
   "metadata": {
    "collapsed": false
   },
   "outputs": [
    {
     "name": "stdout",
     "output_type": "stream",
     "text": [
      "2.67204253144\n"
     ]
    }
   ],
   "source": [
    "# считаем качество композиции 2 на скрытом контроле\n",
    "\n",
    "final_pred = 0.7 * regs[1].predict(df_concealed_features) + \\\n",
    "     0.1 * (regs[2].predict(df_concealed_features) + regs[3].predict(df_concealed_features) + \\\n",
    "           regs[4].predict(df_concealed_features))\n",
    "    \n",
    "print(np.sqrt(mean_squared_error(df_concealed_target, final_pred)))"
   ]
  },
  {
   "cell_type": "markdown",
   "metadata": {},
   "source": [
    "**7. Сделать выводы.**"
   ]
  },
  {
   "cell_type": "markdown",
   "metadata": {},
   "source": [
    "Итак, я рассмотрел работу регрессоров Ridge, Lasso, Random Forest, Decision Tree и kNN на данной случайной выборке, а также двух композиций этих алгоритмов с разными весами. Было установлено, что Ridge и Lasso работают лучше остальных алгоритмов (с небольшим преимуществом последнего), Decision Tree и kNN хуже Random Forest и почти одинаково. Композиции с упором на лучшие алгоритмы дают хорошие результаты, причем композиция 2 даже обгоняет по качеству всё остальное."
   ]
  },
  {
   "cell_type": "code",
   "execution_count": null,
   "metadata": {
    "collapsed": true
   },
   "outputs": [],
   "source": []
  }
 ],
 "metadata": {
  "anaconda-cloud": {},
  "kernelspec": {
   "display_name": "Python [default]",
   "language": "python",
   "name": "python3"
  },
  "language_info": {
   "codemirror_mode": {
    "name": "ipython",
    "version": 3
   },
   "file_extension": ".py",
   "mimetype": "text/x-python",
   "name": "python",
   "nbconvert_exporter": "python",
   "pygments_lexer": "ipython3",
   "version": "3.5.2"
  }
 },
 "nbformat": 4,
 "nbformat_minor": 0
}
