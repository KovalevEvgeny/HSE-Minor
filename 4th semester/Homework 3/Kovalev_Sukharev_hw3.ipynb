{
 "cells": [
  {
   "cell_type": "markdown",
   "metadata": {},
   "source": [
    "# Домашнее задание 3. Классификация имен"
   ]
  },
  {
   "cell_type": "markdown",
   "metadata": {},
   "source": [
    "## Работу выполнили Ковалев Евгений и Сухарев Иван, 4 группа"
   ]
  },
  {
   "cell_type": "markdown",
   "metadata": {},
   "source": [
    "В данном домашнем задании мы разработали два классификатора (наивный байесовский с использованием n-грамм и сеть с двумя слоями LSTM), которые определяют пол по имени."
   ]
  },
  {
   "cell_type": "markdown",
   "metadata": {},
   "source": [
    "*1. [1 балл] Предварительная обработка данных: 1) удалите неоднозначные имена (те имена, которые являются и мужскими, и женскими одновременно), если такие есть; 2) создайте тестовое множество по следующему принципу: 20% от общего количества имен на каждую букву (т.е. 20% от имен на букву A, 20% имен на букву B, и т.д.)*"
   ]
  },
  {
   "cell_type": "code",
   "execution_count": 39,
   "metadata": {
    "collapsed": false
   },
   "outputs": [],
   "source": [
    "import pandas as pd\n",
    "import glob\n",
    "import re\n",
    "import random\n",
    "from nltk.util import ngrams\n",
    "from nltk import NaiveBayesClassifier\n",
    "from nltk.classify import accuracy\n",
    "from keras.models import Sequential\n",
    "import keras.metrics\n",
    "from keras.layers.core import Dense, Activation, Dropout\n",
    "from keras.layers.recurrent import LSTM\n",
    "import numpy as np\n",
    "import sklearn.metrics"
   ]
  },
  {
   "cell_type": "markdown",
   "metadata": {},
   "source": [
    "Извлекаем имена из соответствующих текстовых файлов."
   ]
  },
  {
   "cell_type": "code",
   "execution_count": 6,
   "metadata": {
    "collapsed": false
   },
   "outputs": [],
   "source": [
    "f = ' '.join(''.join(open('hw3_data/female.txt').readlines()).split('\\n')).split()\n",
    "m = ' '.join(''.join(open('hw3_data/male.txt').readlines()).split('\\n')).split()"
   ]
  },
  {
   "cell_type": "markdown",
   "metadata": {},
   "source": [
    "Избавляемся от неоднозначных имен."
   ]
  },
  {
   "cell_type": "code",
   "execution_count": 7,
   "metadata": {
    "collapsed": false
   },
   "outputs": [],
   "source": [
    "female = [x for x in f if x not in m]\n",
    "male = [x for x in m if x not in f]"
   ]
  },
  {
   "cell_type": "markdown",
   "metadata": {},
   "source": [
    "Создаем массив из пар имя-пол."
   ]
  },
  {
   "cell_type": "code",
   "execution_count": 8,
   "metadata": {
    "collapsed": true
   },
   "outputs": [],
   "source": [
    "labeled_names = sorted([(name, 'female') for name in female] + [(name, 'male') for name in male])"
   ]
  },
  {
   "cell_type": "markdown",
   "metadata": {},
   "source": [
    "Находим все заглавные буквы, которые встречаются в массиве имен."
   ]
  },
  {
   "cell_type": "code",
   "execution_count": 9,
   "metadata": {
    "collapsed": false
   },
   "outputs": [],
   "source": [
    "capital_letters = set(re.findall('[A-Z]', ''.join(female + male)))"
   ]
  },
  {
   "cell_type": "markdown",
   "metadata": {},
   "source": [
    "Разбиваем выборку на обучающую и тестовую."
   ]
  },
  {
   "cell_type": "code",
   "execution_count": 10,
   "metadata": {
    "collapsed": false
   },
   "outputs": [],
   "source": [
    "train = []\n",
    "test = []\n",
    "for letter in capital_letters:\n",
    "    temp_names = [x for x in labeled_names if x[0][0] == letter]\n",
    "    random_sample_names = random.sample(temp_names, int(round(len(temp_names) / 5)))\n",
    "    test.extend(random_sample_names)\n",
    "    train.extend([x for x in temp_names if x not in random_sample_names])"
   ]
  },
  {
   "cell_type": "markdown",
   "metadata": {},
   "source": [
    "Перемешиваем элементы в обучающей и тестовой выборках."
   ]
  },
  {
   "cell_type": "code",
   "execution_count": 11,
   "metadata": {
    "collapsed": false
   },
   "outputs": [],
   "source": [
    "random.shuffle(train)\n",
    "random.shuffle(test)"
   ]
  },
  {
   "cell_type": "markdown",
   "metadata": {},
   "source": [
    "*2. [4 балла] Используйте метод наивного Байеса для классификации имен: в качестве признаков используйте символьные n-граммы. Сравните результаты, получаемые при разных n = 2, 3, 4 по F-мере и аккуратности. В каких случаях метод ошибается? Для генерации n-грамм используйте from nltk.util import ngrams.*"
   ]
  },
  {
   "cell_type": "markdown",
   "metadata": {},
   "source": [
    "Напишем функцию, которая будет выдавать результаты классификации с помощью метода наивного Байеса и с использованием n-грамм."
   ]
  },
  {
   "cell_type": "code",
   "execution_count": 102,
   "metadata": {
    "collapsed": true
   },
   "outputs": [],
   "source": [
    "def names_bayes_classification(n):\n",
    "    # массив всех n-грамм для обучающей выборки\n",
    "    n_grams = []\n",
    "    for item in train:\n",
    "        name_n_grams = list(ngrams(item[0], n, pad_left=True, pad_right=True,\\\n",
    "                                   left_pad_symbol='<s>', right_pad_symbol='</s>'))\n",
    "        n_grams.extend(name_n_grams)\n",
    "    n_grams_set = set(n_grams)\n",
    "    # делаем из множества всех n-грамм словарь признаков, где ключами (признаками) являются сами\n",
    "    # n-граммы, а значениями - True/False (пока везде False)\n",
    "    n_grams_features = dict.fromkeys(n_grams_set, False)\n",
    "    \n",
    "    # функция, которая получает на вход имя и выводит признаки для него (ставит в словаре признаков\n",
    "    # значения True к тем n-граммам, которые встречаются в данном имени)\n",
    "    def name2features(name):\n",
    "        name_features = dict.fromkeys(n_grams_set, False)\n",
    "        name_n_grams = list(ngrams(name, n, pad_left=True, pad_right=True,\\\n",
    "                                   left_pad_symbol='<s>', right_pad_symbol='</s>'))\n",
    "        for n_gram in name_n_grams:\n",
    "            name_features[n_gram] = True\n",
    "        return name_features\n",
    "    \n",
    "    # классификация\n",
    "    train_set = [(name2features(name), gender) for (name, gender) in train]\n",
    "    test_set = [(name2features(name), gender) for (name, gender) in test]\n",
    "    classifier = NaiveBayesClassifier.train(train_set)\n",
    "    true_positive = 0\n",
    "    true_negative = 0\n",
    "    false_positive = 0\n",
    "    false_negative = 0\n",
    "    for item in test:\n",
    "        classifier_gender = classifier.classify(name2features(item[0]))\n",
    "        if item[1] == classifier_gender and item[1] == 'male':\n",
    "            true_positive += 1\n",
    "        elif item[1] == classifier_gender and item[1] == 'female':\n",
    "            true_negative += 1\n",
    "        elif item[1] != classifier_gender and item[1] == 'female':\n",
    "            false_positive += 1\n",
    "        elif item[1] != classifier_gender and item[1] == 'male':\n",
    "            false_negative += 1\n",
    "    precision = true_positive / (true_positive + false_positive)\n",
    "    recall = true_positive / (true_positive + false_negative)\n",
    "    f_score = (2 * precision * recall) / (precision + recall)\n",
    "    print('Accuracy: {}'.format(accuracy(classifier, test_set)))\n",
    "    print('True Positive: {}'.format(true_positive))\n",
    "    print('True Negative: {}'.format(true_negative))\n",
    "    print('False Positive: {}'.format(false_positive))\n",
    "    print('False Negative: {}'.format(false_negative))\n",
    "    print('Precision: {}'.format(precision))\n",
    "    print('Recall: {}'.format(recall))\n",
    "    print('F-score: {}'.format(f_score))"
   ]
  },
  {
   "cell_type": "code",
   "execution_count": 103,
   "metadata": {
    "collapsed": false
   },
   "outputs": [
    {
     "name": "stdout",
     "output_type": "stream",
     "text": [
      "2-GRAMS\n",
      "Accuracy: 0.8473282442748091\n",
      "True Positive: 376\n",
      "True Negative: 845\n",
      "False Positive: 111\n",
      "False Negative: 109\n",
      "Precision: 0.7720739219712526\n",
      "Recall: 0.7752577319587629\n",
      "F-score: 0.7736625514403292\n"
     ]
    }
   ],
   "source": [
    "print('2-GRAMS')\n",
    "names_bayes_classification(2)"
   ]
  },
  {
   "cell_type": "code",
   "execution_count": 106,
   "metadata": {
    "collapsed": false
   },
   "outputs": [
    {
     "name": "stdout",
     "output_type": "stream",
     "text": [
      "3-GRAMS\n",
      "Accuracy: 0.897293546148508\n",
      "True Positive: 408\n",
      "True Negative: 885\n",
      "False Positive: 71\n",
      "False Negative: 77\n",
      "Precision: 0.8517745302713987\n",
      "Recall: 0.8412371134020619\n",
      "F-score: 0.8464730290456431\n"
     ]
    }
   ],
   "source": [
    "print('3-GRAMS')\n",
    "names_bayes_classification(3)"
   ]
  },
  {
   "cell_type": "code",
   "execution_count": 108,
   "metadata": {
    "collapsed": false
   },
   "outputs": [
    {
     "name": "stdout",
     "output_type": "stream",
     "text": [
      "4-GRAMS\n",
      "Accuracy: 0.8979875086745316\n",
      "True Positive: 404\n",
      "True Negative: 890\n",
      "False Positive: 66\n",
      "False Negative: 81\n",
      "Precision: 0.8595744680851064\n",
      "Recall: 0.8329896907216495\n",
      "F-score: 0.8460732984293194\n"
     ]
    }
   ],
   "source": [
    "print('4-GRAMS')\n",
    "names_bayes_classification(4)"
   ]
  },
  {
   "cell_type": "markdown",
   "metadata": {},
   "source": [
    "Как видно, модель, использующая биграммы, проигрывает в качестве моделям, использующим 3-граммы и 4-граммы, которые в очередь показывают почти один и тот же результат."
   ]
  },
  {
   "cell_type": "markdown",
   "metadata": {},
   "source": [
    "*3.\t[4 балла] Используйте сеть с двумя слоями LSTM для определения пола. Представление имени для классификации в этом случае: 2-мерный бинарный вектор количество букв в алфавите максимальная длина имени. Обозначим его через x. Если первая буква имени a, то x[1][1] = 1, если вторая – b, то x[2][1] = 1. Не забудьте про регуляризацию нейронной сети дропаутами. Если совсем не получается запрограммировать нейронную сеть самостоятельно, обратитесь к туториалу тут: https://github.com/divamgupta/lstm-gender-predictor/blob/master/train_genders.py. Сравните результаты, получаемые при разных значениях дропаута, разных числах узлов на слоях нейронной сети по F -мере и аккуратности. В каких случаях нейронная сеть ошибается?*"
   ]
  },
  {
   "cell_type": "code",
   "execution_count": 12,
   "metadata": {
    "collapsed": false
   },
   "outputs": [
    {
     "name": "stdout",
     "output_type": "stream",
     "text": [
      "max_male: 15\n",
      "max_female: 15\n"
     ]
    }
   ],
   "source": [
    "max_male = max([len(c) for c in male])\n",
    "max_female = max([len(c) for c in female])\n",
    "print('max_male: ' + str(max_male))\n",
    "print('max_female: ' + str(max_female))"
   ]
  },
  {
   "cell_type": "code",
   "execution_count": 13,
   "metadata": {
    "collapsed": true
   },
   "outputs": [],
   "source": [
    "def transf(word):\n",
    "    w = word.lower()\n",
    "    ans = [[0 for c in range(max_male)] for i in range(26)]\n",
    "    for i in range(len(w)):\n",
    "        if ord(w[i]) - 97 >= 0:\n",
    "            ans[ord(w[i]) - 97][i] = 1\n",
    "    return ans\n",
    "\n",
    "def conv(arr):\n",
    "    x = [transf(x[0]) for x in arr]\n",
    "    y = [[0, 1] if x[1] == 'female' else [1, 0] for x in arr]\n",
    "    return np.array(x, dtype=np.float32), np.array(y, dtype=np.float32)"
   ]
  },
  {
   "cell_type": "code",
   "execution_count": 14,
   "metadata": {
    "collapsed": true
   },
   "outputs": [],
   "source": [
    "X_train, Y_train = conv(train)\n",
    "X_test, Y_test = conv(test)"
   ]
  },
  {
   "cell_type": "code",
   "execution_count": 23,
   "metadata": {
    "collapsed": false
   },
   "outputs": [
    {
     "name": "stdout",
     "output_type": "stream",
     "text": [
      "Build model...\n",
      "Done!\n",
      "Score  [0.47387077806725592, 0.77099236641221369, 0.7709923067248422]\n"
     ]
    }
   ],
   "source": [
    "print('Build model...')\n",
    "model = Sequential()\n",
    "model.add(LSTM(512, return_sequences=True, input_shape=(26, max_male)))\n",
    "model.add(Dropout(0.2))\n",
    "model.add(LSTM(512, return_sequences=False))\n",
    "model.add(Dropout(0.2))\n",
    "model.add(Dense(2))\n",
    "model.add(Activation('softmax'))\n",
    "\n",
    "model.compile(loss='binary_crossentropy', optimizer='rmsprop', metrics=['accuracy', 'fbeta_score'])\n",
    "\n",
    "\n",
    "model.fit(X_train, Y_train, batch_size=32, nb_epoch=10, verbose = 0)\n",
    "\n",
    "print(\"Done!\")\n",
    "score = model.evaluate(X_test, Y_test, batch_size=32, verbose = 0)\n",
    "print(\"Score \" , score)"
   ]
  },
  {
   "cell_type": "code",
   "execution_count": 30,
   "metadata": {
    "collapsed": true
   },
   "outputs": [],
   "source": [
    "def nconv(arr):\n",
    "    return [round(x[0]) for x in arr]"
   ]
  },
  {
   "cell_type": "markdown",
   "metadata": {},
   "source": [
    "F мера"
   ]
  },
  {
   "cell_type": "code",
   "execution_count": 40,
   "metadata": {
    "collapsed": false
   },
   "outputs": [
    {
     "data": {
      "text/plain": [
       "0.67836257309941528"
      ]
     },
     "execution_count": 40,
     "metadata": {},
     "output_type": "execute_result"
    }
   ],
   "source": [
    "sklearn.metrics.f1_score(nconv(model.predict(X_test)), nconv(Y_test))"
   ]
  },
  {
   "cell_type": "markdown",
   "metadata": {},
   "source": [
    "Accuracy"
   ]
  },
  {
   "cell_type": "code",
   "execution_count": 41,
   "metadata": {
    "collapsed": false
   },
   "outputs": [
    {
     "data": {
      "text/plain": [
       "0.77099236641221369"
      ]
     },
     "execution_count": 41,
     "metadata": {},
     "output_type": "execute_result"
    }
   ],
   "source": [
    "sklearn.metrics.accuracy_score(nconv(model.predict(X_test)), nconv(Y_test))"
   ]
  },
  {
   "cell_type": "markdown",
   "metadata": {},
   "source": [
    "*4.\t[1 балл] Сравните результаты классификации разными методами. Какой метод лучше и почему?*"
   ]
  },
  {
   "cell_type": "markdown",
   "metadata": {},
   "source": [
    "В данном случае точно можно выделить, что классификация с n-граммами показала куда лучшие результаты. Отметим, что в силу вычислительных сложностей не имели возможности тщательно обработать случай с нейронными сетями, но разница слишком значительна."
   ]
  },
  {
   "cell_type": "code",
   "execution_count": null,
   "metadata": {
    "collapsed": true
   },
   "outputs": [],
   "source": []
  }
 ],
 "metadata": {
  "anaconda-cloud": {},
  "kernelspec": {
   "display_name": "Python [default]",
   "language": "python",
   "name": "python3"
  },
  "language_info": {
   "codemirror_mode": {
    "name": "ipython",
    "version": 3
   },
   "file_extension": ".py",
   "mimetype": "text/x-python",
   "name": "python",
   "nbconvert_exporter": "python",
   "pygments_lexer": "ipython3",
   "version": "3.5.2"
  }
 },
 "nbformat": 4,
 "nbformat_minor": 1
}
